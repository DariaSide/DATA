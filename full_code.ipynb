{
  "nbformat": 4,
  "nbformat_minor": 0,
  "metadata": {
    "colab": {
      "provenance": []
    },
    "kernelspec": {
      "name": "python3",
      "display_name": "Python 3"
    },
    "language_info": {
      "name": "python"
    }
  },
  "cells": [
    {
      "cell_type": "markdown",
      "source": [
        "#Генеративная модель"
      ],
      "metadata": {
        "id": "H7-6rEZySVS4"
      }
    },
    {
      "cell_type": "code",
      "source": [
        "import matplotlib\n",
        "import pandas as pd\n",
        "import numpy as np\n",
        "from rdkit import Chem\n",
        "from rdkit.Chem import Descriptors, SanitizeFlags\n",
        "from rdkit.Chem.AllChem import GetMorganFingerprintAsBitVect\n",
        "from rdkit.DataStructs import TanimotoSimilarity\n",
        "import random\n",
        "import warnings\n",
        "from rdkit import RDLogger\n",
        "from tqdm import tqdm\n",
        "from functools import lru_cache\n",
        "import multiprocessing as mp\n",
        "from rdkit.Chem import BRICS\n",
        "import matplotlib.pyplot as plt\n",
        "import dill\n",
        "import logging\n",
        "from rdkit.Chem import Draw\n",
        "from rdkit.Chem import AllChem\n",
        "import os"
      ],
      "metadata": {
        "id": "tGewUwPfSXXj"
      },
      "execution_count": null,
      "outputs": []
    },
    {
      "cell_type": "markdown",
      "source": [
        "###Установка параметров алгоритма"
      ],
      "metadata": {
        "id": "R--DZ19bSnTg"
      }
    },
    {
      "cell_type": "code",
      "source": [
        "logging.basicConfig(filename='ga_errors.log', level=logging.INFO)\n",
        "logging.basicConfig(filename='ga_debug.log', level=logging.DEBUG)\n",
        "\n",
        "\n",
        "POPULATION_SIZE = 800\n",
        "GENERATIONS = 150\n",
        "MUTATION_RATE = 0.8\n",
        "CROSSOVER_RATE = 0.5\n",
        "ELITE_SIZE = 50\n",
        "TOURNAMENT_SIZE = 30\n",
        "N_CORES = mp.cpu_count()\n",
        "\n",
        "\n",
        "FP_RADIUS = 2\n",
        "FP_BITS = 2048"
      ],
      "metadata": {
        "id": "fToDC63VSmYz"
      },
      "execution_count": null,
      "outputs": []
    },
    {
      "cell_type": "markdown",
      "source": [
        "###Кэширования для быстрой обработки"
      ],
      "metadata": {
        "id": "EE22vKrnTnXE"
      }
    },
    {
      "cell_type": "code",
      "source": [
        "@lru_cache(maxsize=10_000)\n",
        "def get_cached_mol(smiles):\n",
        "    return Chem.MolFromSmiles(smiles)\n",
        "\n",
        "@lru_cache(maxsize=10_000)\n",
        "def get_cached_fingerprint(smiles):\n",
        "    mol = get_cached_mol(smiles)\n",
        "    return GetMorganFingerprintAsBitVect(mol, FP_RADIUS, FP_BITS) if mol else None"
      ],
      "metadata": {
        "id": "S6-bPve7TnAv"
      },
      "execution_count": null,
      "outputs": []
    },
    {
      "cell_type": "markdown",
      "source": [
        "###Вспомогательные вычисления для основной модели"
      ],
      "metadata": {
        "id": "s20LcG6nT9pI"
      }
    },
    {
      "cell_type": "code",
      "source": [
        "warnings.filterwarnings(\"ignore\")\n",
        "RDLogger.DisableLog('rdApp.*')\n",
        "\n",
        "def parallel_calculate(args):\n",
        "    try:\n",
        "        smiles, target_fp = args\n",
        "        mol = get_cached_mol(smiles)\n",
        "        if not mol:\n",
        "            return 0.0\n",
        "        fp = get_cached_fingerprint(smiles)\n",
        "        similarity = TanimotoSimilarity(fp, target_fp)\n",
        "        logP = Descriptors.MolLogP(mol)\n",
        "        return 0.6 * similarity + 0.4 * (1 - abs(logP - 1.5)/2)\n",
        "    except Exception as e:\n",
        "        print(f\"Ошибка в parallel_calculate: {e}\")\n",
        "        return 0.0"
      ],
      "metadata": {
        "id": "42F-QL6pT-Ab"
      },
      "execution_count": null,
      "outputs": []
    },
    {
      "cell_type": "markdown",
      "source": [
        "###Функции для основного класса"
      ],
      "metadata": {
        "id": "1j2K_utKUbH7"
      }
    },
    {
      "cell_type": "code",
      "source": [
        "def calculate_fitness_parallel(population, target_fp):\n",
        "    ctx = mp.get_context('spawn')\n",
        "    ctx.reducer = dill.Reduce  # Используем dill для сериализации\n",
        "    with ctx.Pool(N_CORES) as pool:\n",
        "        args = [(smiles, target_fp) for smiles in population]\n",
        "        return list(pool.imap(parallel_calculate, args))\n",
        "\n",
        "def sanitize_mol(mol):\n",
        "    try:\n",
        "        flags = SanitizeFlags.SANITIZE_ALL\n",
        "        Chem.SanitizeMol(mol, flags)\n",
        "        return mol\n",
        "    except:\n",
        "        return None\n",
        "\n",
        "\n",
        "def validate_molecule(smiles):\n",
        "    mol = Chem.MolFromSmiles(smiles)\n",
        "    if not mol:\n",
        "        return False\n",
        "    try:\n",
        "        for atom in mol.GetAtoms():\n",
        "            if atom.GetExplicitValence() > Chem.GetPeriodicTable().GetDefaultValence(atom.GetAtomicNum()):\n",
        "                return False\n",
        "        return True\n",
        "    except:\n",
        "        return False\n",
        "\n",
        "def combine_with_scaffold(mol, scaffold_frag):\n",
        "    try:\n",
        "        combined = Chem.CombineMols(mol, scaffold_frag)\n",
        "        ed_combined = Chem.EditableMol(combined)\n",
        "        anchor1 = random.randint(0, mol.GetNumAtoms()-1)\n",
        "        anchor2 = random.randint(mol.GetNumAtoms(), combined.GetNumAtoms()-1)\n",
        "        ed_combined.AddBond(anchor1, anchor2, Chem.BondType.SINGLE)\n",
        "        new_mol = ed_combined.GetMol()\n",
        "        new_mol = sanitize_mol(new_mol)\n",
        "        return new_mol\n",
        "    except:\n",
        "        return mol\n",
        "\n",
        "\n",
        "\n",
        "\n",
        "\n",
        "def crossover(smiles1, smiles2):\n",
        "    try:\n",
        "        mol1, mol2 = Chem.MolFromSmiles(smiles1), Chem.MolFromSmiles(smiles2)\n",
        "        if not mol1 or not mol2:\n",
        "            return (smiles1, smiles2)\n",
        "\n",
        "        frags1 = list(BRICS.BRICSDecompose(mol1, minFragmentSize=4))  # Минимум 4 атома\n",
        "        frags2 = list(BRICS.BRICSDecompose(mol2, minFragmentSize=4))\n",
        "\n",
        "        if not frags1 or not frags2:\n",
        "            return (smiles1, smiles2)\n",
        "\n",
        "        frag1 = random.choice(frags1)\n",
        "        frag2 = random.choice(frags2)\n",
        "        combined = BRICS.CombineFragments(frag1, frag2)\n",
        "        return (Chem.MolToSmiles(combined),)\n",
        "    except:\n",
        "        return (smiles1, smiles2)\n",
        "\n",
        "\n",
        "def rank_selection(population, fitness):\n",
        "    ranked = sorted(zip(population, fitness), key=lambda x: x[1], reverse=True)\n",
        "    return [x[0] for x in ranked[:int(0.2*POPULATION_SIZE)]]\n",
        "\n",
        "\n",
        "\n",
        "def tournament_selection(population, fitness):\n",
        "    candidates = random.sample(list(zip(population, fitness)), 5)\n",
        "    return max(candidates, key=lambda x: x[1])[0]"
      ],
      "metadata": {
        "id": "_TdoXXm-UbSi"
      },
      "execution_count": null,
      "outputs": []
    },
    {
      "cell_type": "markdown",
      "source": [
        "##Основной класс работы"
      ],
      "metadata": {
        "id": "Xi_EFCxmU65Y"
      }
    },
    {
      "cell_type": "code",
      "source": [
        "class MolecularOptimizer:\n",
        "    def __init__(self, target_smiles, population_size=2000):\n",
        "        self.target_mol = Chem.MolFromSmiles(target_smiles)\n",
        "        if not self.target_mol:\n",
        "            raise ValueError(f\"Invalid target SMILES: {target_smiles}\")\n",
        "\n",
        "        self.target_fp = GetMorganFingerprintAsBitVect(self.target_mol, FP_RADIUS, FP_BITS)\n",
        "        self.target_frags = list(BRICS.BRICSDecompose(self.target_mol))\n",
        "        self.population_size = population_size\n",
        "        self.population = []\n",
        "        self.fitness_history = []\n",
        "        self.params = {\n",
        "            'generations': GENERATIONS,\n",
        "            'mutation_rate': MUTATION_RATE,\n",
        "            'crossover_rate': CROSSOVER_RATE\n",
        "        }"
      ],
      "metadata": {
        "id": "rwTPtcTEU7QP"
      },
      "execution_count": null,
      "outputs": []
    },
    {
      "cell_type": "markdown",
      "source": [
        "###Функция сохранения модели"
      ],
      "metadata": {
        "id": "4h-KxRQeWBlw"
      }
    },
    {
      "cell_type": "code",
      "source": [
        "    def save(self, filename):\n",
        "        import pickle\n",
        "        with open(filename, 'wb') as f:\n",
        "            pickle.dump({\n",
        "                'target_fp': self.target_fp,\n",
        "                'population': self.population,\n",
        "                'fitness_history': self.fitness_history,\n",
        "                'params': self.params\n",
        "            }, f)\n",
        "\n",
        "    @classmethod\n",
        "    def load(cls, filename):\n",
        "        import pickle\n",
        "        with open(filename, 'rb') as f:\n",
        "            data = pickle.load(f)\n",
        "        instance = cls.__new__(cls)\n",
        "        instance.__dict__.update(data)\n",
        "        return instance"
      ],
      "metadata": {
        "id": "g4ntw9krWCFB"
      },
      "execution_count": null,
      "outputs": []
    },
    {
      "cell_type": "markdown",
      "source": [
        "###Функция подсчета Fitness rate"
      ],
      "metadata": {
        "id": "7eZlJwOmWO7V"
      }
    },
    {
      "cell_type": "code",
      "source": [
        "    def calculate_fitness(self, smiles):\n",
        "        if not validate_molecule(smiles):\n",
        "            return 0.0\n",
        "\n",
        "        mol = Chem.MolFromSmiles(smiles)\n",
        "        fp = GetMorganFingerprintAsBitVect(mol, radius=2, nBits=2048)\n",
        "        similarity = TanimotoSimilarity(fp, self.target_fp)\n",
        "\n",
        "        h_donors = Descriptors.NumHDonors(mol)\n",
        "        h_acceptors = Descriptors.NumHAcceptors(mol)\n",
        "        aromatic_rings = Descriptors.NumAromaticRings(mol)\n",
        "\n",
        "        h_bond_bonus = 0.1 * min(h_donors + h_acceptors, 4)  # До 4 взаимодействий\n",
        "        pi_pi_bonus = 0.15 * aromatic_rings if aromatic_rings >= 2 else 0\n",
        "\n",
        "        mw_penalty = 0.02 * (Descriptors.MolWt(mol) / 500 if Descriptors.MolWt(mol) > 500 else 0)\n",
        "\n",
        "        return 0.7 * similarity + 0.2 * (h_bond_bonus + pi_pi_bonus) - mw_penalty"
      ],
      "metadata": {
        "id": "pRmZ91W4WPJ1"
      },
      "execution_count": null,
      "outputs": []
    },
    {
      "cell_type": "markdown",
      "source": [
        "###Эволюционная оптимизация"
      ],
      "metadata": {
        "id": "thuQUqx0Wc_M"
      }
    },
    {
      "cell_type": "code",
      "source": [
        "    def optimize(self, initial_data_path):\n",
        "        self.population = random.sample(smiles_list, self.population_size)\n",
        "\n",
        "        add_counter = 0\n",
        "        add_interval = random.randint(2, 3)\n",
        "        best_fitness_history = []\n",
        "        current_mutation_rate = self.params['mutation_rate']  # Используем параметры класса\n",
        "\n",
        "\n",
        "        for generation in tqdm(range(self.params['generations']), desc=\"Evolution\"):\n",
        "\n",
        "            self.population = [s for s in self.population if validate_molecule(s)]\n",
        "            fitness = [self.calculate_fitness(s) for s in self.population]\n",
        "            current_best = max(fitness) if fitness else 0.0\n",
        "            self.fitness_history.append(current_best)\n",
        "\n",
        "\n",
        "            if len(self.fitness_history) > 5 and (self.fitness_history[-1] - self.fitness_history[-5]) < 0.01:\n",
        "                current_mutation_rate = 0.8  # Резкое увеличение при застое\n",
        "            else:\n",
        "                current_mutation_rate = self.params['mutation_rate']\n",
        "\n",
        "\n",
        "            if len(self.population) < 0.5 * self.population_size:\n",
        "                new_samples = random.sample(smiles_list, self.population_size // 3)\n",
        "                self.population = list(set(self.population + new_samples))[:self.population_size]\n",
        "\n",
        "\n",
        "            if current_best < 0.5:\n",
        "                current_mutation_rate = min(0.6, current_mutation_rate + 0.1)\n",
        "            else:\n",
        "                current_mutation_rate = max(0.2, current_mutation_rate - 0.05)\n",
        "\n",
        "\n",
        "            elite_indices = np.argsort(fitness)[-ELITE_SIZE:]\n",
        "            elites = [self.population[i] for i in elite_indices]\n",
        "\n",
        "\n",
        "            offspring = []\n",
        "            while len(offspring) < self.population_size - ELITE_SIZE:\n",
        "                parent1 = tournament_selection(self.population, fitness)\n",
        "                parent2 = tournament_selection(self.population, fitness)\n",
        "                child1, child2 = crossover(parent1, parent2)\n",
        "                offspring.extend([child1, child2])\n",
        "\n",
        "\n",
        "            mutated_elites = [self.mutate(s) if random.random() < 0.8 else s for s in elites]\n",
        "            offspring = mutated_elites + offspring\n",
        "\n",
        "\n",
        "            self.population = list({s for s in offspring if validate_molecule(s)})[:self.population_size]\n",
        "\n",
        "\n",
        "            add_counter += 1\n",
        "\n",
        "            if generation % 3 == 0:\n",
        "                target_frags = []\n",
        "                for frag in self.target_frags:\n",
        "                    try:\n",
        "\n",
        "                        if isinstance(frag, Chem.rdchem.Mol):\n",
        "                            smiles = Chem.MolToSmiles(frag)\n",
        "                            if validate_molecule(smiles):\n",
        "                                target_frags.append(smiles)\n",
        "                        else:\n",
        "                            logging.warning(\"Фрагмент не является объектом Mol\")\n",
        "                    except Exception as e:\n",
        "                        logging.error(f\"Ошибка преобразования фрагмента: {e}\")\n",
        "                        continue\n",
        "\n",
        "                if target_frags:\n",
        "\n",
        "                    leader_smiles = max(zip(self.population, fitness), key=lambda x: x[1])[0]\n",
        "                    leader_fp = get_cached_fingerprint(leader_smiles)\n",
        "                    weights = [TanimotoSimilarity(get_cached_fingerprint(s), leader_fp) for s in target_frags]\n",
        "                    new_samples = random.choices(target_frags, weights=weights, k=int(0.1 * self.population_size))\n",
        "                    self.population = list(set(self.population + new_samples))[:self.population_size]\n",
        "\n",
        "            print(f\"Gen {generation}: Best {current_best:.2f} Diversity {len(self.population)}\")\n",
        "\n",
        "            top_molecules = sorted(zip(self.population, fitness), key=lambda x: x[1], reverse=True)[:5]\n",
        "            print(\"Топ-5 молекул:\")\n",
        "            for idx, (sm, fit) in enumerate(top_molecules):\n",
        "                print(f\"  {idx + 1}. {sm} | Fitness: {fit:.2f}\")\n",
        "\n",
        "\n",
        "        if len(self.fitness_history) > 0:\n",
        "            plt.plot(self.fitness_history)\n",
        "            plt.savefig('fitness_progress.png')\n",
        "        return self.population\n",
        "\n",
        "        top_mols = [Chem.MolFromSmiles(sm) for sm, _ in top_molecules[:5]]\n",
        "        img = Draw.MolsToGridImage(top_mols, molsPerRow=5, subImgSize=(300, 300))\n",
        "        img.save(f'gen_{generation}_top5.png')"
      ],
      "metadata": {
        "id": "BS0WKaBKWdRj"
      },
      "execution_count": null,
      "outputs": []
    },
    {
      "cell_type": "markdown",
      "source": [
        "###Функция мутаций"
      ],
      "metadata": {
        "id": "bmxlVEolWllc"
      }
    },
    {
      "cell_type": "code",
      "source": [
        "    def mutate(self, smiles):  # self добавлен как параметр\n",
        "        mol = Chem.MolFromSmiles(smiles)\n",
        "        if not mol:\n",
        "            return smiles\n",
        "\n",
        "        new_mol = Chem.RWMol(mol)\n",
        "        try:\n",
        "            mutation_type = random.choice([\n",
        "                \"replace_atom\", \"add_bond\", \"remove_atom\",\n",
        "                \"add_ring\", \"add_functional_group\", \"scaffold_hopping\",\n",
        "                \"change_bond_type\"])\n",
        "\n",
        "            if mutation_type == \"replace_atom\":\n",
        "                atom_idx = random.choice(range(new_mol.GetNumAtoms()))\n",
        "                atom = new_mol.GetAtomWithIdx(atom_idx)\n",
        "                new_element = random.choice(['C', 'N', 'O'])\n",
        "                new_atomic_num = Chem.GetPeriodicTable().GetAtomicNumber(new_element)\n",
        "\n",
        "            elif mutation_type == \"add_bond\":\n",
        "\n",
        "                atoms = [atom.GetIdx() for atom in new_mol.GetAtoms()]\n",
        "                if len(atoms) >= 2:\n",
        "                    pair = random.sample(atoms, 2)\n",
        "                    new_mol.AddBond(pair[0], pair[1], Chem.BondType.SINGLE)\n",
        "            elif mutation_type == \"remove_atom\":\n",
        "\n",
        "                if new_mol.GetNumAtoms() > 1:\n",
        "                    atom_idx = random.choice(range(new_mol.GetNumAtoms()))\n",
        "                    new_mol.RemoveAtom(atom_idx)\n",
        "\n",
        "            elif mutation_type == \"add_ring\":\n",
        "\n",
        "                atoms = [atom for atom in new_mol.GetAtoms()]\n",
        "                if not atoms:\n",
        "                    return smiles\n",
        "                anchor_atom = random.choice(atoms)\n",
        "                anchor_idx = anchor_atom.GetIdx()\n",
        "\n",
        "\n",
        "                ring = Chem.MolFromSmiles(\"C1=CC=CC=C1\")  # Бензол\n",
        "                if not ring:\n",
        "                    return smiles\n",
        "\n",
        "\n",
        "                combined = Chem.CombineMols(new_mol, ring)\n",
        "                ed_combined = Chem.EditableMol(combined)\n",
        "                ed_combined.AddBond(anchor_idx, len(new_mol.GetAtoms()),\n",
        "                                    Chem.BondType.SINGLE)  # Связь между атомом и кольцом\n",
        "\n",
        "\n",
        "                modified_mol = ed_combined.GetMol()\n",
        "                modified_mol = sanitize_mol(modified_mol)\n",
        "                if modified_mol and validate_molecule(Chem.MolToSmiles(modified_mol)):\n",
        "                    return Chem.MolToSmiles(modified_mol)  # Возврат здесь\n",
        "\n",
        "\n",
        "            elif mutation_type == \"add_functional_group\":\n",
        "                if new_mol.GetNumAtoms() == 0:\n",
        "                    return smiles\n",
        "                atom_idx = random.choice(range(new_mol.GetNumAtoms()))\n",
        "                group = random.choice([\"O\", \"N\", \"F\", \"Cl\"])  # Простые атомы вместо SMARTS\n",
        "                new_atom = Chem.Atom(group)\n",
        "                new_mol.AddAtom(new_atom)\n",
        "                new_mol.AddBond(atom_idx, new_mol.GetNumAtoms() - 1, Chem.BondType.SINGLE)\n",
        "\n",
        "\n",
        "\n",
        "            elif mutation_type == \"scaffold_hopping\":\n",
        "                if new_mol.GetNumAtoms() > 5 and hasattr(self, 'target_frags') and len(self.target_frags) > 0:\n",
        "                    scaffold_frag = random.choice(self.target_frags)\n",
        "                    modified_mol = combine_with_scaffold(new_mol, scaffold_frag)\n",
        "                    if modified_mol and validate_molecule(Chem.MolToSmiles(modified_mol)):\n",
        "                        return Chem.MolToSmiles(modified_mol)\n",
        "\n",
        "            new_smiles = Chem.MolToSmiles(sanitize_mol(new_mol))\n",
        "            return new_smiles if validate_molecule(new_smiles) else smiles\n",
        "        except Exception as e:\n",
        "            logging.debug(f\"Mutation failed for {smiles}: {str(e)}\")\n",
        "            print(f\"Ошибка в mutate: {e}\")\n",
        "            return smiles"
      ],
      "metadata": {
        "id": "ubLRMhxRWmIP"
      },
      "execution_count": null,
      "outputs": []
    },
    {
      "cell_type": "markdown",
      "source": [
        "###Проверка валидности"
      ],
      "metadata": {
        "id": "8cKHPypHXEBa"
      }
    },
    {
      "cell_type": "code",
      "source": [
        "V = 0\n",
        "G = res['smiles'].count()\n",
        "\n",
        "for i in res['smiles']:\n",
        "    mol = Chem.MolFromSmiles(i)\n",
        "    if mol is not None:\n",
        "        V += 1\n",
        "Validity = V / G * 100\n",
        "Validity"
      ],
      "metadata": {
        "id": "yAZFjGk5XEeH"
      },
      "execution_count": null,
      "outputs": []
    },
    {
      "cell_type": "markdown",
      "source": [
        "###Проверка новизны"
      ],
      "metadata": {
        "id": "ulFDfl-lXJ2K"
      }
    },
    {
      "cell_type": "code",
      "source": [
        "N = V\n",
        "for i in res['smiles']:\n",
        "    if i in real['CC1(C)C(=O)NC1S(=O)(=O)C1=CC=CC=C1']:\n",
        "        N -= 1\n",
        "\n",
        "Novelty = N / V * 100\n",
        "Novelty"
      ],
      "metadata": {
        "id": "Kogid1hWXKZy"
      },
      "execution_count": null,
      "outputs": []
    },
    {
      "cell_type": "markdown",
      "source": [
        "###Проверка уникальности"
      ],
      "metadata": {
        "id": "ZxbBvQ70XTQi"
      }
    },
    {
      "cell_type": "code",
      "source": [
        "U = res['smiles'].drop_duplicates().count()\n",
        "\n",
        "Unique = U/V*100\n",
        "Unique"
      ],
      "metadata": {
        "id": "aiRxkjyAXVlF"
      },
      "execution_count": null,
      "outputs": []
    },
    {
      "cell_type": "markdown",
      "source": [
        "#Метрики"
      ],
      "metadata": {
        "id": "-8TkfzxOXbkx"
      }
    },
    {
      "cell_type": "code",
      "source": [
        "Target coformers\n",
        "\n",
        "smiles_list = [ i for i in res['smiles']]\n",
        "score = [calculate_sa_score(i) for i in smiles_list]\n",
        "score = [i for i in score if i <= 3.15]\n",
        "\n",
        "S = len(score)\n",
        "Target = S / G * 100"
      ],
      "metadata": {
        "id": "y7UfOgQzXen3"
      },
      "execution_count": null,
      "outputs": []
    },
    {
      "cell_type": "markdown",
      "source": [
        "##Анализ механических свойств"
      ],
      "metadata": {
        "id": "lBXPXVO3YVZU"
      }
    },
    {
      "cell_type": "code",
      "source": [
        "from rdkit import Chem\n",
        "from rdkit.Chem import AllChem, Descriptors\n",
        "\n",
        "def validate_molecule(smiles, verbose=False):\n",
        "\n",
        "    try:\n",
        "\n",
        "        mol = Chem.MolFromSmiles(smiles)\n",
        "        if mol is None:\n",
        "            return False, \"Invalid SMILES syntax\", None\n",
        "\n",
        "\n",
        "        if mol.GetNumAtoms() == 0:\n",
        "            return False, \"No atoms in molecule\", None\n",
        "\n",
        "\n",
        "        allowed_elements = {1, 6, 7, 8, 9, 15, 16, 17}  # H,C,N,O,F,P,S,Cl\n",
        "        for atom in mol.GetAtoms():\n",
        "            if atom.GetAtomicNum() not in allowed_elements:\n",
        "                return False, f\"Disallowed element: {atom.GetSymbol()}\", None\n",
        "\n",
        "        try:\n",
        "            Chem.SanitizeMol(mol)\n",
        "        except ValueError as e:\n",
        "            return False, f\"Valence error: {str(e)}\", None\n",
        "\n",
        "\n",
        "        if Descriptors.MolWt(mol) > 1000:\n",
        "            if verbose:\n",
        "                print(\"Warning: Molecular weight > 1000\")\n",
        "\n",
        "        return True, None, mol\n",
        "\n",
        "    except Exception as e:\n",
        "        return False, f\"Validation error: {str(e)}\", None\n",
        "\n",
        "\n",
        "\n",
        "test_smiles = [\n",
        "    \"CCO\",          # Валидный этанол\n",
        "    \"C1=CC=CC=C1\",  # Валидный бензол\n",
        "    \"C(C)(C)(C)C\",  # Невалидная валентность\n",
        "    \"InvalidSMILES\",# Неправильный SMILES\n",
        "    \"[Au]\",         # Запрещенный элемент\n",
        "    \"[H][H]\"        # Просто водород\n",
        "]\n",
        "\n",
        "for smi in test_smiles:\n",
        "    is_valid, reason, mol = validate_molecule(smi, verbose=True)\n",
        "    print(f\"{smi[:20]:<20} | Valid: {is_valid} | Reason: {reason or '-'}\")"
      ],
      "metadata": {
        "id": "fUar6ZCZYYj2"
      },
      "execution_count": null,
      "outputs": []
    },
    {
      "cell_type": "markdown",
      "source": [
        "###SA score"
      ],
      "metadata": {
        "id": "2HOTMVtsYlcH"
      }
    },
    {
      "cell_type": "code",
      "source": [
        "def calculate_sa_score(smiles):\n",
        "\n",
        "    try:\n",
        "\n",
        "        if not mol:\n",
        "            raise ValueError(\"Invalid SMILES\")\n",
        "\n",
        "\n",
        "        fp = AllChem.GetMorganFingerprint(mol, radius=2)  # radius=2 стандартно для SA score\n",
        "\n",
        "\n",
        "        frag_contrib = 1 - sum(fp.GetNonzeroElements().values()) / (100 * mol.GetNumAtoms())\n",
        "        ring_penalty = sum(0.5 for ring in mol.GetRingInfo().AtomRings() if len(ring) > 6)\n",
        "        mw_penalty = np.log10(Descriptors.MolWt(mol)) / 10\n",
        "\n",
        "\n",
        "        sa_score = min(10, max(1, 3 * frag_contrib + ring_penalty + mw_penalty))\n",
        "        return round(sa_score, 2)\n",
        "\n",
        "    except Exception as e:\n",
        "        return 0"
      ],
      "metadata": {
        "id": "eAYhSHj3YneH"
      },
      "execution_count": null,
      "outputs": []
    }
  ]
}